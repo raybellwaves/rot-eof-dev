{
 "cells": [
  {
   "cell_type": "markdown",
   "metadata": {},
   "source": [
    "Goal: Create a daily NAO index using the CPC methodology \n",
    "=====\n",
    "\n",
    "Author: [Ray Bell](https://github.com/raybellwaves)"
   ]
  },
  {
   "cell_type": "markdown",
   "metadata": {},
   "source": [
    "Use the time period of the [SubX](http://iridl.ldeo.columbia.edu/SOURCES/.Models/.SubX/) hindcast: 1999-2016.\n",
    "For a saninty check make sure that 1999-2016 is indeed the hindcast period:"
   ]
  },
  {
   "cell_type": "code",
   "execution_count": 1,
   "metadata": {},
   "outputs": [
    {
     "name": "stdout",
     "output_type": "stream",
     "text": [
      "<xarray.DataArray 'S' (S: 6569)>\n",
      "array(['1999-01-07T00:00:00.000000000', '1999-01-08T00:00:00.000000000',\n",
      "       '1999-01-09T00:00:00.000000000', ..., '2016-12-29T00:00:00.000000000',\n",
      "       '2016-12-30T00:00:00.000000000', '2016-12-31T00:00:00.000000000'],\n",
      "      dtype='datetime64[ns]')\n",
      "Coordinates:\n",
      "  * S        (S) datetime64[ns] 1999-01-07 1999-01-08 1999-01-09 1999-01-10 ...\n",
      "Attributes:\n",
      "    pointwidth:     0.0\n",
      "    long_name:      Start Time\n",
      "    standard_name:  forecast_reference_time\n",
      "    gridtype:       0\n"
     ]
    }
   ],
   "source": [
    "import numpy as np\n",
    "import xarray as xr\n",
    "\n",
    "\n",
    "remote_data = xr.open_dataset('http://iridl.ldeo.columbia.edu/SOURCES/.Models'\\\n",
    "                              '/.SubX/.RSMAS/.CCSM4/.hindcast/.zg/dods')\n",
    "print(remote_data.coords['S'])"
   ]
  },
  {
   "cell_type": "markdown",
   "metadata": {},
   "source": [
    "The data used here is geopotential height at 500 hPa ($Z_{500}$) from ERA-Interim. This data was simply copied from the University of Reading archive. You can however use the [API](https://software.ecmwf.int/wiki/display/CKB/How+to+download+data+via+the+ECMWF+WebAPI) to download the data from ECMWF."
   ]
  },
  {
   "cell_type": "markdown",
   "metadata": {},
   "source": [
    "Two files exists in this directory `ERAI_z500_monthly_1999-2016.nc` (43 Mb) and `b.nc`. `ERAI_z500_monthly_1999-2016.nc` is the monthly mean of $Z_{500}$ January 1996 - December 2016. `b.nc` is daily $Z_{500}$ January 1st 1996 - December 31st 2016. The data has been interpolated to 1° to match the SubX data (360x181) and cut to 20°N-90°N for the analysis. The reference scripts for the data processing beforehand are in the directory `pre_proc`. DO THIS!"
   ]
  },
  {
   "cell_type": "markdown",
   "metadata": {},
   "source": [
    "CPC's methodology for the daily NAO index can be found [here](http://www.cpc.ncep.noaa.gov/products/precip/CWlink/daily_ao_index/history/method.shtml), with some more information [here](http://www.cpc.ncep.noaa.gov/data/teledoc/telepatcalc.shtml). The procedure is based on [Barston and Livezey (1987)](https://journals.ametsoc.org/doi/pdf/10.1175/1520-0493%281987%29115%3C1083%3ACSAPOL%3E2.0.CO%3B2)."
   ]
  },
  {
   "cell_type": "markdown",
   "metadata": {},
   "source": [
    "My understanding of the methodology is as follows:"
   ]
  },
  {
   "cell_type": "markdown",
   "metadata": {},
   "source": [
    "1. Use the region of 20°N-90°N with standardized $Z_{500}$ anomalies.\n",
    "\n",
    "2. Calculate the 10 leading EOFs for each calendar month centred on that month with a window of 3 months. e.g. February is based on January-February-March (JFM). Decisions have to be made for January and December: whether to just use the two-month window or leave out the season. (It shouldn't really matter).\n",
    "\n",
    "3. Rotate the EOFs using the varimax methodology.\n",
    "\n",
    "4. Linearly interpolate the monthly spatial pattern to the day in question. e.g. February 1$^{st}$ will be linearly interpolated from the DJF pattern (think of the pattern defined mid-way through the mid-month: e.g. January 15$^{th}$) and the JFM pattern (February 15$^{th}$).\n",
    "\n",
    "5. Least squared regression approach for daily data? (e.g. last paragraph in the NAO/PNA section [here](http://www.cpc.ncep.noaa.gov/products/precip/CWlink/daily_ao_index/history/method.shtml) (I don't understand this)"
   ]
  },
  {
   "cell_type": "markdown",
   "metadata": {},
   "source": [
    "Try creating a daily index for one day e.g. February 15$^{th}$ 2009"
   ]
  },
  {
   "cell_type": "markdown",
   "metadata": {},
   "source": [
    "First we need to obtain the NAO pattern from the monthly data."
   ]
  },
  {
   "cell_type": "markdown",
   "metadata": {},
   "source": [
    "Calcualte the 10 leading EOFs for all JFMs"
   ]
  },
  {
   "cell_type": "markdown",
   "metadata": {},
   "source": [
    "Use xarray's [rolling mean](http://xarray.pydata.org/en/stable/generated/xarray.DataArray.rolling.html) to do the seasonal averages. Then slice it to get all the JFM's."
   ]
  },
  {
   "cell_type": "code",
   "execution_count": 2,
   "metadata": {},
   "outputs": [
    {
     "name": "stdout",
     "output_type": "stream",
     "text": [
      "<xarray.DataArray 'gph500hPa' (time: 216, lat: 71, lon: 360)>\n",
      "[5520960 values with dtype=float64]\n",
      "Coordinates:\n",
      "  * lon      (lon) float64 0.0 1.0 2.0 3.0 4.0 5.0 6.0 7.0 8.0 9.0 10.0 11.0 ...\n",
      "  * time     (time) datetime64[ns] 1999-01-16T09:00:00 1999-02-14T21:00:00 ...\n",
      "  * lat      (lat) float64 20.0 21.0 22.0 23.0 24.0 25.0 26.0 27.0 28.0 29.0 ...\n",
      "Attributes:\n",
      "    standard_name:  geopotential_height\n",
      "    long_name:      Geopotential Height\n",
      "    units:          meters\n",
      "    name:           Z\n",
      "    source:         GRIB data\n",
      "    time:           00:00\n",
      "    title:          Geopotential\n",
      "\n",
      "<xarray.DataArray (time: 214, lat: 71, lon: 360)>\n",
      "array([[[5809.654566, 5810.972497, ..., 5807.253832, 5808.479121],\n",
      "        [5796.711947, 5797.982469, ..., 5794.312084, 5795.529759],\n",
      "        ...,\n",
      "        [5118.6511  , 5118.760763, ..., 5118.42919 , 5118.540497],\n",
      "        [5117.234469, 5117.234469, ..., 5117.234469, 5117.234469]],\n",
      "\n",
      "       [[5827.259486, 5829.044683, ..., 5823.829739, 5825.577047],\n",
      "        [5816.223761, 5818.059066, ..., 5812.517349, 5814.371712],\n",
      "        ...,\n",
      "        [5163.825832, 5163.888646, ..., 5163.701262, 5163.763469],\n",
      "        [5164.121632, 5164.121632, ..., 5164.121632, 5164.121632]],\n",
      "\n",
      "       ...,\n",
      "\n",
      "       [[5881.244269, 5881.379357, ..., 5881.073584, 5881.144899],\n",
      "        [5879.551452, 5879.721973, ..., 5879.145149, 5879.346754],\n",
      "        ...,\n",
      "        [5262.365161, 5262.558775, ..., 5261.973679, 5262.170064],\n",
      "        [5260.289036, 5260.289036, ..., 5260.289036, 5260.289036]],\n",
      "\n",
      "       [[5855.761029, 5855.943348, ..., 5855.495893, 5855.633048],\n",
      "        [5850.00605 , 5850.152037, ..., 5849.706247, 5849.869906],\n",
      "        ...,\n",
      "        [5185.342547, 5185.476946, ..., 5185.072284, 5185.207704],\n",
      "        [5184.807199, 5184.807199, ..., 5184.807199, 5184.807199]]])\n",
      "Coordinates:\n",
      "  * lon      (lon) float64 0.0 1.0 2.0 3.0 4.0 5.0 6.0 7.0 8.0 9.0 10.0 11.0 ...\n",
      "  * time     (time) datetime64[ns] 1999-03-16T09:00:00 1999-04-15T21:00:00 ...\n",
      "  * lat      (lat) float64 20.0 21.0 22.0 23.0 24.0 25.0 26.0 27.0 28.0 29.0 ...\n",
      "\n",
      "<xarray.DataArray 'time' (time: 18)>\n",
      "array(['1999-03-16T09:00:00.000000000', '2000-03-16T09:00:00.000000000',\n",
      "       '2001-03-16T09:00:00.000000000', '2002-03-16T09:00:00.000000000',\n",
      "       '2003-03-16T09:00:00.000000000', '2004-03-16T09:00:00.000000000',\n",
      "       '2005-03-16T09:00:00.000000000', '2006-03-16T09:00:00.000000000',\n",
      "       '2007-03-16T09:00:00.000000000', '2008-03-16T09:00:00.000000000',\n",
      "       '2009-03-16T09:00:00.000000000', '2010-03-16T09:00:00.000000000',\n",
      "       '2011-03-16T09:00:00.000000000', '2012-03-16T12:00:00.000000000',\n",
      "       '2013-03-16T12:00:00.000000000', '2014-03-16T12:00:00.000000000',\n",
      "       '2015-03-16T12:00:00.000000000', '2016-03-16T12:00:00.000000000'],\n",
      "      dtype='datetime64[ns]')\n",
      "Coordinates:\n",
      "  * time     (time) datetime64[ns] 1999-03-16T09:00:00 2000-03-16T09:00:00 ...\n",
      "Attributes:\n",
      "    standard_name:  time\n",
      "    long_name:      t\n"
     ]
    }
   ],
   "source": [
    "da = xr.open_dataarray('ERAI_z500_monthly_1999-2016.nc')\n",
    "print(da)\n",
    "\n",
    "sm = da.rolling(time=3).mean().dropna('time')\n",
    "# Make note that time is now given as the last month in the window e.g. JFM has time 03-16T09 (MM-DDTHH)\n",
    "print('')\n",
    "print(sm)\n",
    "\n",
    "# Use numpy's slice index to get all the JFM's\n",
    "jfm = sm[0::12,:,:]\n",
    "# Check that all the JFM 1999-2016 were correctly sliced \n",
    "print('')\n",
    "print(jfm.coords['time'])"
   ]
  },
  {
   "cell_type": "markdown",
   "metadata": {},
   "source": [
    "Calculate standardized anomalies"
   ]
  },
  {
   "cell_type": "code",
   "execution_count": 3,
   "metadata": {},
   "outputs": [
    {
     "name": "stdout",
     "output_type": "stream",
     "text": [
      "<xarray.DataArray (time: 18, lat: 71, lon: 360)>\n",
      "array([[[-1.434221, -1.399658, ..., -1.488877, -1.463079],\n",
      "        [-1.575146, -1.546949, ..., -1.617144, -1.596318],\n",
      "        ...,\n",
      "        [ 0.388063,  0.389183, ...,  0.385737,  0.386912],\n",
      "        [ 0.333918,  0.333918, ...,  0.333918,  0.333918]],\n",
      "\n",
      "       [[-0.976046, -1.029718, ..., -0.887624, -0.927455],\n",
      "        [-0.895222, -0.951696, ..., -0.808763, -0.848008],\n",
      "        ...,\n",
      "        [-0.084258, -0.08346 , ..., -0.085797, -0.08504 ],\n",
      "        [-0.05341 , -0.05341 , ..., -0.05341 , -0.05341 ]],\n",
      "\n",
      "       ...,\n",
      "\n",
      "       [[-0.174698, -0.182278, ..., -0.169951, -0.169541],\n",
      "        [-0.222018, -0.233198, ..., -0.216672, -0.215745],\n",
      "        ...,\n",
      "        [-1.31553 , -1.316041, ..., -1.314459, -1.315002],\n",
      "        [-1.290563, -1.290563, ..., -1.290563, -1.290563]],\n",
      "\n",
      "       [[ 1.738677,  1.775604, ...,  1.66202 ,  1.702176],\n",
      "        [ 1.598069,  1.633223, ...,  1.537579,  1.567922],\n",
      "        ...,\n",
      "        [ 1.464007,  1.461969, ...,  1.46816 ,  1.466072],\n",
      "        [ 1.489238,  1.489238, ...,  1.489238,  1.489238]]])\n",
      "Coordinates:\n",
      "  * lon      (lon) float64 0.0 1.0 2.0 3.0 4.0 5.0 6.0 7.0 8.0 9.0 10.0 11.0 ...\n",
      "  * time     (time) datetime64[ns] 1999-03-16T09:00:00 2000-03-16T09:00:00 ...\n",
      "  * lat      (lat) float64 20.0 21.0 22.0 23.0 24.0 25.0 26.0 27.0 28.0 29.0 ...\n"
     ]
    }
   ],
   "source": [
    "jfm_sa = (jfm - jfm.mean(dim=('time'))) / (jfm - jfm.mean(dim=('time'))).std(dim=('time'))\n",
    "print(jfm_sa)"
   ]
  },
  {
   "cell_type": "markdown",
   "metadata": {},
   "source": [
    "Before doing the EOF apply a weighting as cosine of the latitude"
   ]
  },
  {
   "cell_type": "code",
   "execution_count": 4,
   "metadata": {},
   "outputs": [
    {
     "name": "stdout",
     "output_type": "stream",
     "text": [
      "(18, 71, 360)\n"
     ]
    }
   ],
   "source": [
    "data = jfm_sa.values\n",
    "wgts = np.sqrt(np.cos(np.deg2rad(jfm_sa.coords['lat'].values)).clip(0., 1.))[..., np.newaxis]\n",
    "weights = np.broadcast_arrays(data[0:1], wgts)[1][0]\n",
    "data = data * weights\n",
    "print(np.shape(data))"
   ]
  },
  {
   "cell_type": "markdown",
   "metadata": {},
   "source": [
    "Calculate the 10 leading EOF modes. For a basic understanding of EOFs I recommending reading Hannachi's EOF primer [here](http://www.met.rdg.ac.uk/~han/Monitor/eofprimer.pdf) and his paper [here](https://rmets.onlinelibrary.wiley.com/doi/full/10.1002/joc.1499). This code is also adapted from Dawson's [eof package](https://github.com/ajdawson/eofs)"
   ]
  },
  {
   "cell_type": "code",
   "execution_count": 5,
   "metadata": {},
   "outputs": [
    {
     "name": "stdout",
     "output_type": "stream",
     "text": [
      "(18, 25560)\n"
     ]
    }
   ],
   "source": [
    "# Reshape the data to be (time, space)\n",
    "records = len(jfm_sa.coords['time'])\n",
    "originalshape = data.shape[1:]\n",
    "channels = np.prod(originalshape)\n",
    "data_flat = data.reshape([records, channels])\n",
    "print(np.shape(data_flat))"
   ]
  },
  {
   "cell_type": "code",
   "execution_count": 6,
   "metadata": {},
   "outputs": [
    {
     "name": "stdout",
     "output_type": "stream",
     "text": [
      "(18, 18)\n",
      "(18,)\n",
      "(18, 25560)\n"
     ]
    }
   ],
   "source": [
    "# Compute the singular value decomposition\n",
    "A, Lh, E = np.linalg.svd(data_flat, full_matrices=False)\n",
    "print(np.shape(A))\n",
    "print(np.shape(Lh))\n",
    "print(np.shape(E))"
   ]
  },
  {
   "cell_type": "code",
   "execution_count": 7,
   "metadata": {},
   "outputs": [
    {
     "name": "stdout",
     "output_type": "stream",
     "text": [
      "(18,)\n",
      "(18, 18)\n"
     ]
    }
   ],
   "source": [
    "# Construct the eigenvalues and normalize by N-1\n",
    "L = (Lh * Lh) / (float(records - 1))\n",
    "print(np.shape(L))\n",
    "\n",
    "# Remove the scaling on the principal component time-series that is\n",
    "# implicitily introduced by using SVD instead of eigen-decomposition.\n",
    "# The PCs may be re-scaled later if required.\n",
    "P = A * Lh\n",
    "print(np.shape(P)) "
   ]
  },
  {
   "cell_type": "markdown",
   "metadata": {},
   "source": [
    "Return the 10 dominant EOFs"
   ]
  },
  {
   "cell_type": "code",
   "execution_count": 8,
   "metadata": {},
   "outputs": [
    {
     "name": "stdout",
     "output_type": "stream",
     "text": [
      "<xarray.DataArray 'pcs' (time: 18, mode: 10)>\n",
      "array([[-6.151959e-01,  1.147294e+00, -5.250022e-01, -1.896321e+00,\n",
      "         2.532846e-02, -2.438858e-01,  1.387640e+00, -9.066526e-01,\n",
      "         3.875247e-01, -2.874359e-01],\n",
      "       [ 7.362934e-01,  1.564674e+00, -1.083903e+00,  7.890554e-01,\n",
      "        -8.957162e-02,  7.983542e-01,  4.716413e-01, -1.707907e+00,\n",
      "         6.178805e-01, -4.393084e-01],\n",
      "       [-6.385871e-01,  3.468233e-01, -8.878826e-04,  9.573112e-01,\n",
      "         1.390250e+00,  4.245997e-01, -6.833864e-01,  6.100967e-02,\n",
      "         1.708617e+00,  3.088802e-01],\n",
      "       [ 6.509269e-01, -6.865323e-01, -5.009680e-01, -6.362048e-01,\n",
      "         1.074133e+00,  1.996454e+00, -1.568155e-01, -6.789900e-01,\n",
      "        -7.080080e-01, -1.678849e-02],\n",
      "       [ 8.432200e-01, -8.495480e-01,  9.176243e-01,  1.522311e+00,\n",
      "        -3.320708e-01,  2.167729e-01,  5.415950e-01,  1.496258e-01,\n",
      "        -1.461457e+00, -1.923358e+00],\n",
      "       [-1.341464e-01, -1.966205e-01, -1.087644e-01,  1.018083e+00,\n",
      "        -5.018417e-01, -5.815036e-02, -1.060348e+00,  8.023101e-01,\n",
      "         1.191318e+00,  1.723637e+00],\n",
      "       [-2.088513e-01,  6.586864e-01,  5.444379e-01,  1.107737e+00,\n",
      "        -1.383892e+00, -8.823345e-01, -5.221153e-01, -1.932440e+00,\n",
      "        -9.670607e-01,  8.321014e-01],\n",
      "       [-8.290135e-01,  2.273896e-01,  9.701755e-01, -1.387615e+00,\n",
      "        -4.345574e-01,  2.869117e-01, -3.451528e-01,  5.403608e-01,\n",
      "        -1.323297e+00,  8.092153e-02],\n",
      "       [ 3.837227e-01, -6.129498e-01, -1.211562e-01, -8.895419e-03,\n",
      "        -2.904334e-02,  1.165798e+00, -4.206619e-01,  1.382917e+00,\n",
      "        -1.171162e-01,  1.246042e-01],\n",
      "       [ 9.433134e-01,  3.405179e-01, -6.877832e-01, -2.562690e-01,\n",
      "         8.900627e-01,  5.827365e-01,  8.842770e-01,  8.212231e-01,\n",
      "         1.960820e-02,  1.116861e-01],\n",
      "       [-6.050587e-02,  4.632050e-02,  1.221521e+00, -1.620957e+00,\n",
      "        -9.310451e-01,  2.910418e-01, -1.297237e-01,  1.300166e-01,\n",
      "         1.164528e-01,  1.154239e+00],\n",
      "       [-2.658606e+00, -2.884191e-01,  4.644179e-01,  1.046514e+00,\n",
      "         1.495378e-01, -4.436299e-02,  2.137232e+00,  6.991885e-01,\n",
      "         3.114188e-01, -3.564019e-01],\n",
      "       [ 9.627047e-01,  8.600901e-01,  7.321500e-01,  7.697234e-01,\n",
      "         8.932334e-01, -3.845114e-01,  6.099866e-01,  4.806545e-01,\n",
      "        -1.306836e+00,  1.763453e+00],\n",
      "       [ 5.492169e-01,  1.978675e+00, -5.217772e-01, -1.756313e-01,\n",
      "        -7.388358e-01, -1.205097e+00, -9.455346e-01,  1.872103e+00,\n",
      "         2.336519e-01, -1.624722e+00],\n",
      "       [-9.866914e-01, -3.400855e-01,  1.056795e+00, -2.337115e-01,\n",
      "         3.325725e-01,  6.362996e-01, -2.042197e+00, -9.477400e-01,\n",
      "         5.003437e-01, -1.355415e+00],\n",
      "       [ 7.108096e-01, -1.151439e+00,  5.151272e-01, -6.382151e-01,\n",
      "         2.072959e+00, -2.608028e+00, -7.931411e-02, -5.887637e-01,\n",
      "         3.255904e-01, -2.452805e-01],\n",
      "       [ 1.381948e+00, -1.733301e+00,  9.645258e-02, -2.686786e-01,\n",
      "        -1.953704e+00, -2.028180e-01,  1.043120e+00, -1.748991e-01,\n",
      "         1.727576e+00, -1.644741e-01],\n",
      "       [-1.030558e+00, -1.311576e+00, -2.968459e+00, -8.823564e-02,\n",
      "        -4.335153e-01, -7.697808e-01, -6.902423e-01, -2.016664e-03,\n",
      "        -1.256207e+00,  3.136624e-01]])\n",
      "Coordinates:\n",
      "  * time     (time) datetime64[ns] 1999-03-16T09:00:00 2000-03-16T09:00:00 ...\n",
      "  * mode     (mode) int64 0 1 2 3 4 5 6 7 8 9\n",
      "<xarray.DataArray 'eofs' (mode: 10, lat: 71, lon: 360)>\n",
      "array([[[-1.854183e-04, -1.882841e-04, ..., -1.782089e-04, -1.819757e-04],\n",
      "        [-1.783707e-04, -1.820228e-04, ..., -1.704016e-04, -1.744958e-04],\n",
      "        ...,\n",
      "        [-2.739227e-05, -2.738974e-05, ..., -2.739681e-05, -2.739462e-05],\n",
      "        [-1.610650e-12, -1.610650e-12, ..., -1.610650e-12, -1.610650e-12]],\n",
      "\n",
      "       [[-1.579720e-04, -1.568677e-04, ..., -1.595842e-04, -1.588955e-04],\n",
      "        [-1.572976e-04, -1.564101e-04, ..., -1.585662e-04, -1.580419e-04],\n",
      "        ...,\n",
      "        [-2.678081e-06, -2.636868e-06, ..., -2.761677e-06, -2.719712e-06],\n",
      "        [-1.944677e-13, -1.944677e-13, ..., -1.944677e-13, -1.944677e-13]],\n",
      "\n",
      "       ...,\n",
      "\n",
      "       [[-2.440356e-04, -2.865746e-04, ..., -1.611332e-04, -2.014524e-04],\n",
      "        [-1.938181e-04, -2.362707e-04, ..., -1.167678e-04, -1.537656e-04],\n",
      "        ...,\n",
      "        [ 3.526931e-05,  3.553962e-05, ...,  3.472467e-05,  3.499745e-05],\n",
      "        [ 2.089031e-12,  2.089031e-12, ...,  2.089031e-12,  2.089031e-12]],\n",
      "\n",
      "       [[-3.545533e-05,  2.452197e-06, ..., -1.069937e-04, -7.239182e-05],\n",
      "        [-7.593370e-06,  3.478988e-05, ..., -8.631464e-05, -4.936436e-05],\n",
      "        ...,\n",
      "        [-1.105619e-05, -1.080884e-05, ..., -1.155055e-05, -1.130339e-05],\n",
      "        [-6.445478e-13, -6.445478e-13, ..., -6.445478e-13, -6.445478e-13]]])\n",
      "Coordinates:\n",
      "  * mode     (mode) int64 0 1 2 3 4 5 6 7 8 9\n",
      "  * lat      (lat) float64 20.0 21.0 22.0 23.0 24.0 25.0 26.0 27.0 28.0 29.0 ...\n",
      "  * lon      (lon) float64 0.0 1.0 2.0 3.0 4.0 5.0 6.0 7.0 8.0 9.0 10.0 11.0 ...\n"
     ]
    }
   ],
   "source": [
    "# Calculate the Principal Components\n",
    "npcs = 10\n",
    "pcs = P[:, 0:npcs] / np.sqrt(L[0:npcs])\n",
    "# Put it in a DataArray\n",
    "pcs_da = xr.DataArray(pcs, coords=[jfm_sa.coords['time'], range(pcs.shape[1])],\n",
    "                      dims=['time', 'mode'], name='pcs')\n",
    "print(pcs_da)\n",
    "\n",
    "# Calculate the eofs\n",
    "flat_eofs = E[0:npcs, :].copy()\n",
    "eofs = flat_eofs / np.sqrt(L[0:npcs])[:, np.newaxis]\n",
    "# Return the original shape\n",
    "eofs2d = eofs.reshape((npcs,) + originalshape)\n",
    "# Put it in a DataArray\n",
    "eofs2d_da = xr.DataArray(eofs2d, coords=[range(pcs.shape[1]), jfm_sa.coords['lat'], jfm_sa.coords['lon']],\n",
    "                         dims=['mode', 'lat', 'lon'], name='eofs')\n",
    "print(eofs2d_da)"
   ]
  },
  {
   "cell_type": "markdown",
   "metadata": {},
   "source": [
    "Calculate the 1$^{st}$ EOF as covariance"
   ]
  },
  {
   "cell_type": "code",
   "execution_count": 9,
   "metadata": {},
   "outputs": [
    {
     "name": "stdout",
     "output_type": "stream",
     "text": [
      "<xarray.DataArray 'eofs' (mode: 10, lat: 71, lon: 360)>\n",
      "array([[[-11.109956, -11.281669, ..., -10.677983, -10.903685],\n",
      "        [-10.722605, -10.942151, ..., -10.24355 , -10.489671],\n",
      "        ...,\n",
      "        [-12.043508, -12.042397, ..., -12.045505, -12.044542],\n",
      "        [-11.955381, -11.955381, ..., -11.955381, -11.955381]],\n",
      "\n",
      "       [[ -8.699857,  -8.639038, ...,  -8.788645,  -8.750716],\n",
      "        [ -8.691026,  -8.64199 , ...,  -8.761116,  -8.732147],\n",
      "        ...,\n",
      "        [ -1.082233,  -1.065579, ...,  -1.116015,  -1.099056],\n",
      "        [ -1.326728,  -1.326728, ...,  -1.326728,  -1.326728]],\n",
      "\n",
      "       ...,\n",
      "\n",
      "       [[ -1.871614,  -2.197864, ...,  -1.2358  ,  -1.545025],\n",
      "        [ -1.491332,  -1.817983, ...,  -0.898469,  -1.183149],\n",
      "        ...,\n",
      "        [  1.984838,   2.000051, ...,   1.954188,   1.969539],\n",
      "        [  1.984771,   1.984771, ...,   1.984771,   1.984771]],\n",
      "\n",
      "       [[ -0.218082,   0.015083, ...,  -0.658107,  -0.445275],\n",
      "        [ -0.046859,   0.214688, ...,  -0.532648,  -0.304628],\n",
      "        ...,\n",
      "        [ -0.49901 ,  -0.487846, ...,  -0.521323,  -0.510167],\n",
      "        [ -0.49113 ,  -0.49113 , ...,  -0.49113 ,  -0.49113 ]]])\n",
      "Coordinates:\n",
      "  * mode     (mode) int64 0 1 2 3 4 5 6 7 8 9\n",
      "  * lat      (lat) float64 20.0 21.0 22.0 23.0 24.0 25.0 26.0 27.0 28.0 29.0 ...\n",
      "  * lon      (lon) float64 0.0 1.0 2.0 3.0 4.0 5.0 6.0 7.0 8.0 9.0 10.0 11.0 ...\n"
     ]
    }
   ],
   "source": [
    "# Divide the input by the weighting\n",
    "data = data / weights\n",
    "\n",
    "out_shape = (npcs,) + originalshape\n",
    "data_flat = data.reshape([records, channels])\n",
    "pcs_flat = pcs.reshape([records, npcs])\n",
    "\n",
    "# Divisor\n",
    "div = np.float64(pcs_flat.shape[0] - float(records - 1))\n",
    "cov = (np.dot(data_flat.T, pcs_flat).T / div).reshape(out_shape)\n",
    "# Put into DataArray\n",
    "cov_da = xr.DataArray(cov, coords=[range(pcs.shape[1]), jfm_sa.coords['lat'], jfm_sa.coords['lon']],\n",
    "                         dims=['mode', 'lat', 'lon'], name='z500')\n",
    "print(cov_da)"
   ]
  },
  {
   "cell_type": "markdown",
   "metadata": {},
   "source": [
    "Plot it"
   ]
  },
  {
   "cell_type": "code",
   "execution_count": 11,
   "metadata": {},
   "outputs": [
    {
     "data": {
      "text/plain": [
       "<matplotlib.collections.QuadMesh at 0x324239b38>"
      ]
     },
     "execution_count": 11,
     "metadata": {},
     "output_type": "execute_result"
    },
    {
     "data": {
      "image/png": "[encoded data removed]",
      "text/plain": [
       "<Figure size 432x288 with 2 Axes>"
      ]
     },
     "metadata": {},
     "output_type": "display_data"
    }
   ],
   "source": [
    "%matplotlib inline\n",
    "cov_da.isel(mode=0).plot()"
   ]
  },
  {
   "cell_type": "markdown",
   "metadata": {},
   "source": [
    "Make the plot nicer using [cartopy](https://github.com/SciTools/cartopy)"
   ]
  },
  {
   "cell_type": "markdown",
   "metadata": {},
   "source": [
    "Enter a start-time an end-time for which to calculate the daily NAO index\n",
    "e.g. lets look at the large negativate NAO of winter 2008/2009:"
   ]
  },
  {
   "cell_type": "code",
   "execution_count": null,
   "metadata": {},
   "outputs": [],
   "source": [
    "stime = '2009-02-01-T12:00:00'\n",
    "etime = '2009-02-14-T12:00:00'"
   ]
  },
  {
   "cell_type": "markdown",
   "metadata": {},
   "source": [
    "Now extend for the winter months (DJF)"
   ]
  },
  {
   "cell_type": "code",
   "execution_count": null,
   "metadata": {},
   "outputs": [],
   "source": [
    "stime = '2008-12-01-T12:00:00'\n",
    "etime = '2009-02-28-T12:00:00'"
   ]
  },
  {
   "cell_type": "markdown",
   "metadata": {},
   "source": [
    "Now do for all winters"
   ]
  }
 ],
 "metadata": {
  "kernelspec": {
   "display_name": "Python 3",
   "language": "python",
   "name": "python3"
  },
  "language_info": {
   "codemirror_mode": {
    "name": "ipython",
    "version": 3
   },
   "file_extension": ".py",
   "mimetype": "text/x-python",
   "name": "python",
   "nbconvert_exporter": "python",
   "pygments_lexer": "ipython3",
   "version": "3.6.5"
  }
 },
 "nbformat": 4,
 "nbformat_minor": 2
}
