{
 "cells": [
  {
   "cell_type": "markdown",
   "metadata": {},
   "source": [
    "Goal: Create a daily NAO index using the CPC methodology \n",
    "=====\n",
    "\n",
    "Author: [Ray Bell](https://github.com/raybellwaves)"
   ]
  },
  {
   "cell_type": "markdown",
   "metadata": {},
   "source": [
    "Use the time period of the [SubX](http://iridl.ldeo.columbia.edu/SOURCES/.Models/.SubX/) hindcast: 1999-2016.\n",
    "For a saninty check make sure that 1999-2016 is indeed the hindcast period:"
   ]
  },
  {
   "cell_type": "code",
   "execution_count": 3,
   "metadata": {},
   "outputs": [
    {
     "name": "stdout",
     "output_type": "stream",
     "text": [
      "<xarray.DataArray 'S' (S: 6569)>\n",
      "array(['1999-01-07T00:00:00.000000000', '1999-01-08T00:00:00.000000000',\n",
      "       '1999-01-09T00:00:00.000000000', ..., '2016-12-29T00:00:00.000000000',\n",
      "       '2016-12-30T00:00:00.000000000', '2016-12-31T00:00:00.000000000'],\n",
      "      dtype='datetime64[ns]')\n",
      "Coordinates:\n",
      "  * S        (S) datetime64[ns] 1999-01-07 1999-01-08 1999-01-09 1999-01-10 ...\n",
      "Attributes:\n",
      "    long_name:      Start Time\n",
      "    pointwidth:     0.0\n",
      "    standard_name:  forecast_reference_time\n",
      "    gridtype:       0\n"
     ]
    }
   ],
   "source": [
    "import xarray as xr\n",
    "remote_data = xr.open_dataset('http://iridl.ldeo.columbia.edu/SOURCES/.Models'\\\n",
    "                              '/.SubX/.RSMAS/.CCSM4/.hindcast/.zg/dods')\n",
    "print(remote_data.coords['S'])"
   ]
  },
  {
   "cell_type": "markdown",
   "metadata": {},
   "source": [
    "The data used here is geopotential height at 500 hPa ($Z_{500}$) from ERA-Interim. This data was simply copied from the University of Reading archive. You can however use the [API](https://software.ecmwf.int/wiki/display/CKB/How+to+download+data+via+the+ECMWF+WebAPI) to download the data from ECMWF."
   ]
  },
  {
   "cell_type": "markdown",
   "metadata": {},
   "source": [
    "Two files exists in this directory `a.nc` and `b.nc`. `a.nc` is the monthly mean of $Z_{500}$ January 1996 - December 2016. `b.nc` is daily $Z_{500}$ January 1st 1996 - December 31st 2016. The data has been interpolated to 1 degree to match the SubX data using cdo..."
   ]
  },
  {
   "cell_type": "code",
   "execution_count": null,
   "metadata": {},
   "outputs": [],
   "source": []
  }
 ],
 "metadata": {
  "kernelspec": {
   "display_name": "Python 3",
   "language": "python",
   "name": "python3"
  },
  "language_info": {
   "codemirror_mode": {
    "name": "ipython",
    "version": 3
   },
   "file_extension": ".py",
   "mimetype": "text/x-python",
   "name": "python",
   "nbconvert_exporter": "python",
   "pygments_lexer": "ipython3",
   "version": "3.6.5"
  }
 },
 "nbformat": 4,
 "nbformat_minor": 2
}
